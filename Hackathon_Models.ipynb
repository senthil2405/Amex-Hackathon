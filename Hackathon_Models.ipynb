{
  "nbformat": 4,
  "nbformat_minor": 0,
  "metadata": {
    "colab": {
      "name": "Hackathon_Models.ipynb",
      "provenance": [],
      "collapsed_sections": []
    },
    "kernelspec": {
      "name": "python3",
      "display_name": "Python 3"
    },
    "language_info": {
      "name": "python"
    }
  },
  "cells": [
    {
      "cell_type": "code",
      "execution_count": null,
      "metadata": {
        "id": "dVB0RNehvbjN"
      },
      "outputs": [],
      "source": [
        "import tensorflow as tf\n",
        "import numpy as np\n",
        "import pandas as pd\n",
        "import matplotlib.pyplot as plt\n"
      ]
    },
    {
      "cell_type": "code",
      "source": [
        "df = pd.read_csv('Train.csv')"
      ],
      "metadata": {
        "id": "oQpT6k7Yy33U"
      },
      "execution_count": null,
      "outputs": []
    },
    {
      "cell_type": "code",
      "source": [
        "labels = pd.read_csv('train_labels.csv')"
      ],
      "metadata": {
        "id": "8pq138SR04NN"
      },
      "execution_count": null,
      "outputs": []
    },
    {
      "cell_type": "code",
      "source": [
        "df.drop('Unnamed: 0',axis = 1,inplace = True)"
      ],
      "metadata": {
        "id": "lV_7ZQ-rzYTQ"
      },
      "execution_count": null,
      "outputs": []
    },
    {
      "cell_type": "code",
      "source": [
        "df"
      ],
      "metadata": {
        "colab": {
          "base_uri": "https://localhost:8080/",
          "height": 487
        },
        "id": "GdsV-K1PzZs1",
        "outputId": "ab150ecf-2430-4712-baa6-df20cee9cb35"
      },
      "execution_count": null,
      "outputs": [
        {
          "output_type": "execute_result",
          "data": {
            "text/html": [
              "\n",
              "  <div id=\"df-f30776d7-fcb0-433c-b5b9-c9dcd4c11360\">\n",
              "    <div class=\"colab-df-container\">\n",
              "      <div>\n",
              "<style scoped>\n",
              "    .dataframe tbody tr th:only-of-type {\n",
              "        vertical-align: middle;\n",
              "    }\n",
              "\n",
              "    .dataframe tbody tr th {\n",
              "        vertical-align: top;\n",
              "    }\n",
              "\n",
              "    .dataframe thead th {\n",
              "        text-align: right;\n",
              "    }\n",
              "</style>\n",
              "<table border=\"1\" class=\"dataframe\">\n",
              "  <thead>\n",
              "    <tr style=\"text-align: right;\">\n",
              "      <th></th>\n",
              "      <th>Age</th>\n",
              "      <th>Vintage</th>\n",
              "      <th>Is_Active</th>\n",
              "      <th>P00</th>\n",
              "      <th>P1</th>\n",
              "      <th>P2</th>\n",
              "      <th>P3</th>\n",
              "      <th>P4</th>\n",
              "      <th>P5</th>\n",
              "      <th>P6</th>\n",
              "      <th>P7</th>\n",
              "      <th>P8</th>\n",
              "      <th>P9</th>\n",
              "      <th>P10</th>\n",
              "      <th>P11</th>\n",
              "      <th>P12</th>\n",
              "      <th>P13</th>\n",
              "      <th>P14</th>\n",
              "      <th>P15</th>\n",
              "      <th>P16</th>\n",
              "      <th>P17</th>\n",
              "      <th>P18</th>\n",
              "      <th>P19</th>\n",
              "      <th>P20</th>\n",
              "      <th>P21</th>\n",
              "      <th>Customer_Category_S2</th>\n",
              "      <th>Customer_Category_S3</th>\n",
              "      <th>IsMale</th>\n",
              "      <th>City_Category_2</th>\n",
              "    </tr>\n",
              "  </thead>\n",
              "  <tbody>\n",
              "    <tr>\n",
              "      <th>0</th>\n",
              "      <td>0.244882</td>\n",
              "      <td>-0.543603</td>\n",
              "      <td>0</td>\n",
              "      <td>0</td>\n",
              "      <td>1</td>\n",
              "      <td>0</td>\n",
              "      <td>0</td>\n",
              "      <td>0</td>\n",
              "      <td>0</td>\n",
              "      <td>0</td>\n",
              "      <td>0</td>\n",
              "      <td>0</td>\n",
              "      <td>0</td>\n",
              "      <td>0</td>\n",
              "      <td>0</td>\n",
              "      <td>0</td>\n",
              "      <td>0</td>\n",
              "      <td>0</td>\n",
              "      <td>0</td>\n",
              "      <td>1</td>\n",
              "      <td>0</td>\n",
              "      <td>0</td>\n",
              "      <td>0</td>\n",
              "      <td>0</td>\n",
              "      <td>0</td>\n",
              "      <td>0</td>\n",
              "      <td>1</td>\n",
              "      <td>1</td>\n",
              "      <td>0</td>\n",
              "    </tr>\n",
              "    <tr>\n",
              "      <th>1</th>\n",
              "      <td>0.837670</td>\n",
              "      <td>-0.543603</td>\n",
              "      <td>1</td>\n",
              "      <td>0</td>\n",
              "      <td>1</td>\n",
              "      <td>1</td>\n",
              "      <td>0</td>\n",
              "      <td>0</td>\n",
              "      <td>0</td>\n",
              "      <td>0</td>\n",
              "      <td>0</td>\n",
              "      <td>0</td>\n",
              "      <td>0</td>\n",
              "      <td>0</td>\n",
              "      <td>0</td>\n",
              "      <td>0</td>\n",
              "      <td>1</td>\n",
              "      <td>0</td>\n",
              "      <td>0</td>\n",
              "      <td>0</td>\n",
              "      <td>0</td>\n",
              "      <td>0</td>\n",
              "      <td>0</td>\n",
              "      <td>1</td>\n",
              "      <td>0</td>\n",
              "      <td>1</td>\n",
              "      <td>0</td>\n",
              "      <td>0</td>\n",
              "      <td>0</td>\n",
              "    </tr>\n",
              "    <tr>\n",
              "      <th>2</th>\n",
              "      <td>2.023244</td>\n",
              "      <td>-0.543603</td>\n",
              "      <td>0</td>\n",
              "      <td>0</td>\n",
              "      <td>1</td>\n",
              "      <td>0</td>\n",
              "      <td>0</td>\n",
              "      <td>0</td>\n",
              "      <td>0</td>\n",
              "      <td>0</td>\n",
              "      <td>0</td>\n",
              "      <td>0</td>\n",
              "      <td>0</td>\n",
              "      <td>0</td>\n",
              "      <td>1</td>\n",
              "      <td>0</td>\n",
              "      <td>0</td>\n",
              "      <td>0</td>\n",
              "      <td>0</td>\n",
              "      <td>0</td>\n",
              "      <td>0</td>\n",
              "      <td>0</td>\n",
              "      <td>0</td>\n",
              "      <td>0</td>\n",
              "      <td>0</td>\n",
              "      <td>1</td>\n",
              "      <td>0</td>\n",
              "      <td>0</td>\n",
              "      <td>1</td>\n",
              "    </tr>\n",
              "    <tr>\n",
              "      <th>3</th>\n",
              "      <td>-0.644298</td>\n",
              "      <td>-0.348524</td>\n",
              "      <td>0</td>\n",
              "      <td>0</td>\n",
              "      <td>1</td>\n",
              "      <td>0</td>\n",
              "      <td>0</td>\n",
              "      <td>0</td>\n",
              "      <td>0</td>\n",
              "      <td>0</td>\n",
              "      <td>0</td>\n",
              "      <td>1</td>\n",
              "      <td>0</td>\n",
              "      <td>0</td>\n",
              "      <td>0</td>\n",
              "      <td>0</td>\n",
              "      <td>1</td>\n",
              "      <td>0</td>\n",
              "      <td>0</td>\n",
              "      <td>0</td>\n",
              "      <td>0</td>\n",
              "      <td>0</td>\n",
              "      <td>0</td>\n",
              "      <td>0</td>\n",
              "      <td>0</td>\n",
              "      <td>1</td>\n",
              "      <td>0</td>\n",
              "      <td>0</td>\n",
              "      <td>0</td>\n",
              "    </tr>\n",
              "    <tr>\n",
              "      <th>4</th>\n",
              "      <td>-0.841894</td>\n",
              "      <td>-0.446064</td>\n",
              "      <td>0</td>\n",
              "      <td>0</td>\n",
              "      <td>1</td>\n",
              "      <td>1</td>\n",
              "      <td>0</td>\n",
              "      <td>0</td>\n",
              "      <td>0</td>\n",
              "      <td>0</td>\n",
              "      <td>0</td>\n",
              "      <td>0</td>\n",
              "      <td>0</td>\n",
              "      <td>0</td>\n",
              "      <td>0</td>\n",
              "      <td>0</td>\n",
              "      <td>0</td>\n",
              "      <td>0</td>\n",
              "      <td>0</td>\n",
              "      <td>1</td>\n",
              "      <td>1</td>\n",
              "      <td>0</td>\n",
              "      <td>0</td>\n",
              "      <td>0</td>\n",
              "      <td>1</td>\n",
              "      <td>0</td>\n",
              "      <td>1</td>\n",
              "      <td>1</td>\n",
              "      <td>1</td>\n",
              "    </tr>\n",
              "    <tr>\n",
              "      <th>...</th>\n",
              "      <td>...</td>\n",
              "      <td>...</td>\n",
              "      <td>...</td>\n",
              "      <td>...</td>\n",
              "      <td>...</td>\n",
              "      <td>...</td>\n",
              "      <td>...</td>\n",
              "      <td>...</td>\n",
              "      <td>...</td>\n",
              "      <td>...</td>\n",
              "      <td>...</td>\n",
              "      <td>...</td>\n",
              "      <td>...</td>\n",
              "      <td>...</td>\n",
              "      <td>...</td>\n",
              "      <td>...</td>\n",
              "      <td>...</td>\n",
              "      <td>...</td>\n",
              "      <td>...</td>\n",
              "      <td>...</td>\n",
              "      <td>...</td>\n",
              "      <td>...</td>\n",
              "      <td>...</td>\n",
              "      <td>...</td>\n",
              "      <td>...</td>\n",
              "      <td>...</td>\n",
              "      <td>...</td>\n",
              "      <td>...</td>\n",
              "      <td>...</td>\n",
              "    </tr>\n",
              "    <tr>\n",
              "      <th>37743</th>\n",
              "      <td>-1.039490</td>\n",
              "      <td>0.431790</td>\n",
              "      <td>1</td>\n",
              "      <td>0</td>\n",
              "      <td>1</td>\n",
              "      <td>0</td>\n",
              "      <td>0</td>\n",
              "      <td>0</td>\n",
              "      <td>0</td>\n",
              "      <td>0</td>\n",
              "      <td>0</td>\n",
              "      <td>0</td>\n",
              "      <td>0</td>\n",
              "      <td>0</td>\n",
              "      <td>0</td>\n",
              "      <td>0</td>\n",
              "      <td>0</td>\n",
              "      <td>0</td>\n",
              "      <td>0</td>\n",
              "      <td>1</td>\n",
              "      <td>0</td>\n",
              "      <td>0</td>\n",
              "      <td>0</td>\n",
              "      <td>0</td>\n",
              "      <td>0</td>\n",
              "      <td>1</td>\n",
              "      <td>0</td>\n",
              "      <td>1</td>\n",
              "      <td>0</td>\n",
              "    </tr>\n",
              "    <tr>\n",
              "      <th>37744</th>\n",
              "      <td>-0.249107</td>\n",
              "      <td>-0.836221</td>\n",
              "      <td>0</td>\n",
              "      <td>0</td>\n",
              "      <td>1</td>\n",
              "      <td>1</td>\n",
              "      <td>0</td>\n",
              "      <td>0</td>\n",
              "      <td>0</td>\n",
              "      <td>0</td>\n",
              "      <td>0</td>\n",
              "      <td>0</td>\n",
              "      <td>0</td>\n",
              "      <td>0</td>\n",
              "      <td>0</td>\n",
              "      <td>0</td>\n",
              "      <td>0</td>\n",
              "      <td>0</td>\n",
              "      <td>0</td>\n",
              "      <td>1</td>\n",
              "      <td>1</td>\n",
              "      <td>0</td>\n",
              "      <td>0</td>\n",
              "      <td>0</td>\n",
              "      <td>1</td>\n",
              "      <td>1</td>\n",
              "      <td>0</td>\n",
              "      <td>1</td>\n",
              "      <td>1</td>\n",
              "    </tr>\n",
              "    <tr>\n",
              "      <th>37745</th>\n",
              "      <td>0.541276</td>\n",
              "      <td>0.626868</td>\n",
              "      <td>1</td>\n",
              "      <td>0</td>\n",
              "      <td>1</td>\n",
              "      <td>0</td>\n",
              "      <td>0</td>\n",
              "      <td>0</td>\n",
              "      <td>0</td>\n",
              "      <td>0</td>\n",
              "      <td>0</td>\n",
              "      <td>0</td>\n",
              "      <td>0</td>\n",
              "      <td>0</td>\n",
              "      <td>0</td>\n",
              "      <td>0</td>\n",
              "      <td>0</td>\n",
              "      <td>1</td>\n",
              "      <td>0</td>\n",
              "      <td>0</td>\n",
              "      <td>0</td>\n",
              "      <td>0</td>\n",
              "      <td>0</td>\n",
              "      <td>0</td>\n",
              "      <td>0</td>\n",
              "      <td>1</td>\n",
              "      <td>0</td>\n",
              "      <td>1</td>\n",
              "      <td>1</td>\n",
              "    </tr>\n",
              "    <tr>\n",
              "      <th>37746</th>\n",
              "      <td>1.726850</td>\n",
              "      <td>-0.446064</td>\n",
              "      <td>1</td>\n",
              "      <td>0</td>\n",
              "      <td>1</td>\n",
              "      <td>0</td>\n",
              "      <td>0</td>\n",
              "      <td>0</td>\n",
              "      <td>0</td>\n",
              "      <td>0</td>\n",
              "      <td>0</td>\n",
              "      <td>0</td>\n",
              "      <td>0</td>\n",
              "      <td>0</td>\n",
              "      <td>0</td>\n",
              "      <td>1</td>\n",
              "      <td>1</td>\n",
              "      <td>0</td>\n",
              "      <td>0</td>\n",
              "      <td>0</td>\n",
              "      <td>0</td>\n",
              "      <td>0</td>\n",
              "      <td>0</td>\n",
              "      <td>0</td>\n",
              "      <td>0</td>\n",
              "      <td>1</td>\n",
              "      <td>0</td>\n",
              "      <td>0</td>\n",
              "      <td>0</td>\n",
              "    </tr>\n",
              "    <tr>\n",
              "      <th>37747</th>\n",
              "      <td>-0.940692</td>\n",
              "      <td>-0.641142</td>\n",
              "      <td>0</td>\n",
              "      <td>0</td>\n",
              "      <td>1</td>\n",
              "      <td>0</td>\n",
              "      <td>0</td>\n",
              "      <td>0</td>\n",
              "      <td>0</td>\n",
              "      <td>0</td>\n",
              "      <td>0</td>\n",
              "      <td>0</td>\n",
              "      <td>0</td>\n",
              "      <td>0</td>\n",
              "      <td>0</td>\n",
              "      <td>0</td>\n",
              "      <td>0</td>\n",
              "      <td>0</td>\n",
              "      <td>0</td>\n",
              "      <td>1</td>\n",
              "      <td>1</td>\n",
              "      <td>0</td>\n",
              "      <td>0</td>\n",
              "      <td>0</td>\n",
              "      <td>0</td>\n",
              "      <td>1</td>\n",
              "      <td>0</td>\n",
              "      <td>1</td>\n",
              "      <td>1</td>\n",
              "    </tr>\n",
              "  </tbody>\n",
              "</table>\n",
              "<p>37748 rows × 29 columns</p>\n",
              "</div>\n",
              "      <button class=\"colab-df-convert\" onclick=\"convertToInteractive('df-f30776d7-fcb0-433c-b5b9-c9dcd4c11360')\"\n",
              "              title=\"Convert this dataframe to an interactive table.\"\n",
              "              style=\"display:none;\">\n",
              "        \n",
              "  <svg xmlns=\"http://www.w3.org/2000/svg\" height=\"24px\"viewBox=\"0 0 24 24\"\n",
              "       width=\"24px\">\n",
              "    <path d=\"M0 0h24v24H0V0z\" fill=\"none\"/>\n",
              "    <path d=\"M18.56 5.44l.94 2.06.94-2.06 2.06-.94-2.06-.94-.94-2.06-.94 2.06-2.06.94zm-11 1L8.5 8.5l.94-2.06 2.06-.94-2.06-.94L8.5 2.5l-.94 2.06-2.06.94zm10 10l.94 2.06.94-2.06 2.06-.94-2.06-.94-.94-2.06-.94 2.06-2.06.94z\"/><path d=\"M17.41 7.96l-1.37-1.37c-.4-.4-.92-.59-1.43-.59-.52 0-1.04.2-1.43.59L10.3 9.45l-7.72 7.72c-.78.78-.78 2.05 0 2.83L4 21.41c.39.39.9.59 1.41.59.51 0 1.02-.2 1.41-.59l7.78-7.78 2.81-2.81c.8-.78.8-2.07 0-2.86zM5.41 20L4 18.59l7.72-7.72 1.47 1.35L5.41 20z\"/>\n",
              "  </svg>\n",
              "      </button>\n",
              "      \n",
              "  <style>\n",
              "    .colab-df-container {\n",
              "      display:flex;\n",
              "      flex-wrap:wrap;\n",
              "      gap: 12px;\n",
              "    }\n",
              "\n",
              "    .colab-df-convert {\n",
              "      background-color: #E8F0FE;\n",
              "      border: none;\n",
              "      border-radius: 50%;\n",
              "      cursor: pointer;\n",
              "      display: none;\n",
              "      fill: #1967D2;\n",
              "      height: 32px;\n",
              "      padding: 0 0 0 0;\n",
              "      width: 32px;\n",
              "    }\n",
              "\n",
              "    .colab-df-convert:hover {\n",
              "      background-color: #E2EBFA;\n",
              "      box-shadow: 0px 1px 2px rgba(60, 64, 67, 0.3), 0px 1px 3px 1px rgba(60, 64, 67, 0.15);\n",
              "      fill: #174EA6;\n",
              "    }\n",
              "\n",
              "    [theme=dark] .colab-df-convert {\n",
              "      background-color: #3B4455;\n",
              "      fill: #D2E3FC;\n",
              "    }\n",
              "\n",
              "    [theme=dark] .colab-df-convert:hover {\n",
              "      background-color: #434B5C;\n",
              "      box-shadow: 0px 1px 3px 1px rgba(0, 0, 0, 0.15);\n",
              "      filter: drop-shadow(0px 1px 2px rgba(0, 0, 0, 0.3));\n",
              "      fill: #FFFFFF;\n",
              "    }\n",
              "  </style>\n",
              "\n",
              "      <script>\n",
              "        const buttonEl =\n",
              "          document.querySelector('#df-f30776d7-fcb0-433c-b5b9-c9dcd4c11360 button.colab-df-convert');\n",
              "        buttonEl.style.display =\n",
              "          google.colab.kernel.accessAllowed ? 'block' : 'none';\n",
              "\n",
              "        async function convertToInteractive(key) {\n",
              "          const element = document.querySelector('#df-f30776d7-fcb0-433c-b5b9-c9dcd4c11360');\n",
              "          const dataTable =\n",
              "            await google.colab.kernel.invokeFunction('convertToInteractive',\n",
              "                                                     [key], {});\n",
              "          if (!dataTable) return;\n",
              "\n",
              "          const docLinkHtml = 'Like what you see? Visit the ' +\n",
              "            '<a target=\"_blank\" href=https://colab.research.google.com/notebooks/data_table.ipynb>data table notebook</a>'\n",
              "            + ' to learn more about interactive tables.';\n",
              "          element.innerHTML = '';\n",
              "          dataTable['output_type'] = 'display_data';\n",
              "          await google.colab.output.renderOutput(dataTable, element);\n",
              "          const docLink = document.createElement('div');\n",
              "          docLink.innerHTML = docLinkHtml;\n",
              "          element.appendChild(docLink);\n",
              "        }\n",
              "      </script>\n",
              "    </div>\n",
              "  </div>\n",
              "  "
            ],
            "text/plain": [
              "            Age   Vintage  ...  IsMale  City_Category_2\n",
              "0      0.244882 -0.543603  ...       1                0\n",
              "1      0.837670 -0.543603  ...       0                0\n",
              "2      2.023244 -0.543603  ...       0                1\n",
              "3     -0.644298 -0.348524  ...       0                0\n",
              "4     -0.841894 -0.446064  ...       1                1\n",
              "...         ...       ...  ...     ...              ...\n",
              "37743 -1.039490  0.431790  ...       1                0\n",
              "37744 -0.249107 -0.836221  ...       1                1\n",
              "37745  0.541276  0.626868  ...       1                1\n",
              "37746  1.726850 -0.446064  ...       0                0\n",
              "37747 -0.940692 -0.641142  ...       1                1\n",
              "\n",
              "[37748 rows x 29 columns]"
            ]
          },
          "metadata": {},
          "execution_count": 5
        }
      ]
    },
    {
      "cell_type": "code",
      "source": [
        "labels.drop(['P19','P21'],axis = 1 ,inplace = True)"
      ],
      "metadata": {
        "id": "d1xtkrfb0-ez"
      },
      "execution_count": null,
      "outputs": []
    },
    {
      "cell_type": "code",
      "source": [
        "labels.drop(['Unnamed: 0'],axis = 1 ,inplace = True)"
      ],
      "metadata": {
        "id": "5e0GcI541ifS"
      },
      "execution_count": null,
      "outputs": []
    },
    {
      "cell_type": "code",
      "source": [
        "labels.columns.shape"
      ],
      "metadata": {
        "colab": {
          "base_uri": "https://localhost:8080/"
        },
        "id": "KrZI4E_Z1bb0",
        "outputId": "12b9d93d-cd5b-48fb-d98c-f2cff4e7cb58"
      },
      "execution_count": null,
      "outputs": [
        {
          "output_type": "execute_result",
          "data": {
            "text/plain": [
              "(20,)"
            ]
          },
          "metadata": {},
          "execution_count": 8
        }
      ]
    },
    {
      "cell_type": "markdown",
      "source": [
        "## Now lets start building our models\n",
        "\n",
        "* We will start with a basic model and build on from that\n",
        "\n"
      ],
      "metadata": {
        "id": "3lBgfMBE0biK"
      }
    },
    {
      "cell_type": "code",
      "source": [
        "df.columns.shape,labels.columns.shape"
      ],
      "metadata": {
        "colab": {
          "base_uri": "https://localhost:8080/"
        },
        "id": "42HAQjFs2KYo",
        "outputId": "24377b57-c6f8-4c2f-ad83-56131aa672df"
      },
      "execution_count": null,
      "outputs": [
        {
          "output_type": "execute_result",
          "data": {
            "text/plain": [
              "((29,), (20,))"
            ]
          },
          "metadata": {},
          "execution_count": 9
        }
      ]
    },
    {
      "cell_type": "code",
      "source": [
        "df.iloc[0].to_numpy()"
      ],
      "metadata": {
        "colab": {
          "base_uri": "https://localhost:8080/"
        },
        "id": "bcMeWqzs2gGh",
        "outputId": "b9b81ed4-65f1-4e8c-fec9-250e8e8bba24"
      },
      "execution_count": null,
      "outputs": [
        {
          "output_type": "execute_result",
          "data": {
            "text/plain": [
              "array([ 0.24488249, -0.54360285,  0.        ,  0.        ,  1.        ,\n",
              "        0.        ,  0.        ,  0.        ,  0.        ,  0.        ,\n",
              "        0.        ,  0.        ,  0.        ,  0.        ,  0.        ,\n",
              "        0.        ,  0.        ,  0.        ,  0.        ,  1.        ,\n",
              "        0.        ,  0.        ,  0.        ,  0.        ,  0.        ,\n",
              "        0.        ,  1.        ,  1.        ,  0.        ])"
            ]
          },
          "metadata": {},
          "execution_count": 10
        }
      ]
    },
    {
      "cell_type": "code",
      "source": [
        "model_1 = tf.keras.Sequential([\n",
        "    tf.keras.layers.Dense(5,activation = 'relu',input_shape = (None,29)),\n",
        "    tf.keras.layers.Dense(10,activation = 'relu'),\n",
        "    tf.keras.layers.Dense(20,activation = 'softmax')\n",
        "])\n",
        "\n",
        "\n",
        "# Lets Compile our model\n",
        "model_1.compile(loss = tf.keras.losses.BinaryCrossentropy(),\n",
        "                optimizer = tf.keras.optimizers.Adam(lr = 0.01),\n",
        "                metrics = tf.keras.metrics.BinaryCrossentropy())\n",
        "\n",
        "# LEts Fit our model\n",
        "'''\n",
        "We take the first 35K labels for training and the rest for validation\n",
        "'''\n",
        "model_1.fit(df[:30000],labels[:30000],epochs = 25)\n",
        "\n",
        "\n"
      ],
      "metadata": {
        "id": "JoK4SZ5w0lca",
        "colab": {
          "base_uri": "https://localhost:8080/"
        },
        "outputId": "0d921e04-f8e7-45b3-fa5f-d5973e402a5a"
      },
      "execution_count": null,
      "outputs": [
        {
          "output_type": "stream",
          "name": "stdout",
          "text": [
            "Epoch 1/25\n",
            "WARNING:tensorflow:Model was constructed with shape (None, None, 29) for input KerasTensor(type_spec=TensorSpec(shape=(None, None, 29), dtype=tf.float32, name='dense_input'), name='dense_input', description=\"created by layer 'dense_input'\"), but it was called on an input with incompatible shape (None, 29).\n"
          ]
        },
        {
          "output_type": "stream",
          "name": "stderr",
          "text": [
            "/usr/local/lib/python3.7/dist-packages/keras/optimizer_v2/adam.py:105: UserWarning: The `lr` argument is deprecated, use `learning_rate` instead.\n",
            "  super(Adam, self).__init__(name, **kwargs)\n"
          ]
        },
        {
          "output_type": "stream",
          "name": "stdout",
          "text": [
            "WARNING:tensorflow:Model was constructed with shape (None, None, 29) for input KerasTensor(type_spec=TensorSpec(shape=(None, None, 29), dtype=tf.float32, name='dense_input'), name='dense_input', description=\"created by layer 'dense_input'\"), but it was called on an input with incompatible shape (None, 29).\n",
            "938/938 [==============================] - 4s 3ms/step - loss: 0.1838 - binary_crossentropy: 0.1838\n",
            "Epoch 2/25\n",
            "938/938 [==============================] - 4s 4ms/step - loss: 0.1519 - binary_crossentropy: 0.1519\n",
            "Epoch 3/25\n",
            "938/938 [==============================] - 4s 4ms/step - loss: 0.1498 - binary_crossentropy: 0.1498\n",
            "Epoch 4/25\n",
            "938/938 [==============================] - 4s 5ms/step - loss: 0.1480 - binary_crossentropy: 0.1480\n",
            "Epoch 5/25\n",
            "938/938 [==============================] - 4s 4ms/step - loss: 0.1476 - binary_crossentropy: 0.1476\n",
            "Epoch 6/25\n",
            "938/938 [==============================] - 3s 4ms/step - loss: 0.1471 - binary_crossentropy: 0.1471\n",
            "Epoch 7/25\n",
            "938/938 [==============================] - 4s 4ms/step - loss: 0.1466 - binary_crossentropy: 0.1466\n",
            "Epoch 8/25\n",
            "938/938 [==============================] - 3s 3ms/step - loss: 0.1461 - binary_crossentropy: 0.1461\n",
            "Epoch 9/25\n",
            "938/938 [==============================] - 2s 2ms/step - loss: 0.1458 - binary_crossentropy: 0.1458\n",
            "Epoch 10/25\n",
            "938/938 [==============================] - 2s 2ms/step - loss: 0.1457 - binary_crossentropy: 0.1457\n",
            "Epoch 11/25\n",
            "938/938 [==============================] - 2s 2ms/step - loss: 0.1454 - binary_crossentropy: 0.1454\n",
            "Epoch 12/25\n",
            "938/938 [==============================] - 2s 2ms/step - loss: 0.1454 - binary_crossentropy: 0.1454\n",
            "Epoch 13/25\n",
            "938/938 [==============================] - 2s 2ms/step - loss: 0.1451 - binary_crossentropy: 0.1451\n",
            "Epoch 14/25\n",
            "938/938 [==============================] - 2s 2ms/step - loss: 0.1450 - binary_crossentropy: 0.1450\n",
            "Epoch 15/25\n",
            "938/938 [==============================] - 2s 2ms/step - loss: 0.1449 - binary_crossentropy: 0.1449\n",
            "Epoch 16/25\n",
            "938/938 [==============================] - 2s 2ms/step - loss: 0.1449 - binary_crossentropy: 0.1449\n",
            "Epoch 17/25\n",
            "938/938 [==============================] - 2s 2ms/step - loss: 0.1448 - binary_crossentropy: 0.1448\n",
            "Epoch 18/25\n",
            "938/938 [==============================] - 2s 2ms/step - loss: 0.1447 - binary_crossentropy: 0.1447\n",
            "Epoch 19/25\n",
            "938/938 [==============================] - 2s 2ms/step - loss: 0.1447 - binary_crossentropy: 0.1447\n",
            "Epoch 20/25\n",
            "938/938 [==============================] - 2s 2ms/step - loss: 0.1444 - binary_crossentropy: 0.1444\n",
            "Epoch 21/25\n",
            "938/938 [==============================] - 2s 2ms/step - loss: 0.1444 - binary_crossentropy: 0.1444\n",
            "Epoch 22/25\n",
            "938/938 [==============================] - 2s 2ms/step - loss: 0.1444 - binary_crossentropy: 0.1444\n",
            "Epoch 23/25\n",
            "938/938 [==============================] - 2s 2ms/step - loss: 0.1444 - binary_crossentropy: 0.1444\n",
            "Epoch 24/25\n",
            "938/938 [==============================] - 2s 2ms/step - loss: 0.1444 - binary_crossentropy: 0.1444\n",
            "Epoch 25/25\n",
            "938/938 [==============================] - 2s 2ms/step - loss: 0.1442 - binary_crossentropy: 0.1442\n"
          ]
        },
        {
          "output_type": "execute_result",
          "data": {
            "text/plain": [
              "<keras.callbacks.History at 0x7f01a51eee90>"
            ]
          },
          "metadata": {},
          "execution_count": 11
        }
      ]
    },
    {
      "cell_type": "code",
      "source": [
        "model_1.summary()"
      ],
      "metadata": {
        "id": "ij-KHlzH71HB",
        "colab": {
          "base_uri": "https://localhost:8080/"
        },
        "outputId": "248ce542-1223-49b4-8081-01e06c603420"
      },
      "execution_count": null,
      "outputs": [
        {
          "output_type": "stream",
          "name": "stdout",
          "text": [
            "Model: \"sequential\"\n",
            "_________________________________________________________________\n",
            " Layer (type)                Output Shape              Param #   \n",
            "=================================================================\n",
            " dense (Dense)               (None, None, 5)           150       \n",
            "                                                                 \n",
            " dense_1 (Dense)             (None, None, 10)          60        \n",
            "                                                                 \n",
            " dense_2 (Dense)             (None, None, 20)          220       \n",
            "                                                                 \n",
            "=================================================================\n",
            "Total params: 430\n",
            "Trainable params: 430\n",
            "Non-trainable params: 0\n",
            "_________________________________________________________________\n"
          ]
        }
      ]
    },
    {
      "cell_type": "code",
      "source": [
        "# Defining Classes\n",
        "\n",
        "classes = np.array(['P00'\t,'P1',\t'P2',\t'P3'\t,'P4'\t,'P5'\t,'P6',\t'P7'\t,'P8',\t'P9',\t'P10'\t,'P11'\t,'P12'\t,'P13'\t,'P14'\t,'P15'\t,'P16'\t,'P17',\t'P18'\t,'P20'])\n",
        "classes = classes.reshape(1,20)"
      ],
      "metadata": {
        "id": "GCmgxyRs2zdM"
      },
      "execution_count": null,
      "outputs": []
    },
    {
      "cell_type": "code",
      "source": [
        "classes"
      ],
      "metadata": {
        "colab": {
          "base_uri": "https://localhost:8080/"
        },
        "id": "-bQTv9JeBsgQ",
        "outputId": "3c372a80-ecd9-423d-ed68-940d8607af83"
      },
      "execution_count": null,
      "outputs": [
        {
          "output_type": "execute_result",
          "data": {
            "text/plain": [
              "array([['P00', 'P1', 'P2', 'P3', 'P4', 'P5', 'P6', 'P7', 'P8', 'P9',\n",
              "        'P10', 'P11', 'P12', 'P13', 'P14', 'P15', 'P16', 'P17', 'P18',\n",
              "        'P20']], dtype='<U3')"
            ]
          },
          "metadata": {},
          "execution_count": 14
        }
      ]
    },
    {
      "cell_type": "markdown",
      "source": [
        "##Lets Try Visualizing our predicitons to check how they are"
      ],
      "metadata": {
        "id": "_qgdnOjD3vIX"
      }
    },
    {
      "cell_type": "code",
      "source": [
        "%matplotlib inline"
      ],
      "metadata": {
        "id": "ENjDi36e31bk"
      },
      "execution_count": null,
      "outputs": []
    },
    {
      "cell_type": "code",
      "source": [
        "x = np.linspace(1,20,num = 20)"
      ],
      "metadata": {
        "id": "Z0rfL-055AB7"
      },
      "execution_count": null,
      "outputs": []
    },
    {
      "cell_type": "code",
      "source": [
        "x,x.shape"
      ],
      "metadata": {
        "colab": {
          "base_uri": "https://localhost:8080/"
        },
        "id": "ZSLGuDkm5HXa",
        "outputId": "74dba220-7b72-4c76-e089-0425828e21aa"
      },
      "execution_count": null,
      "outputs": [
        {
          "output_type": "execute_result",
          "data": {
            "text/plain": [
              "(array([ 1.,  2.,  3.,  4.,  5.,  6.,  7.,  8.,  9., 10., 11., 12., 13.,\n",
              "        14., 15., 16., 17., 18., 19., 20.]), (20,))"
            ]
          },
          "metadata": {},
          "execution_count": 17
        }
      ]
    },
    {
      "cell_type": "code",
      "source": [
        "'''\n",
        "Lets write a function to visualize how are our predictions and how do they match up with the labels to identify which products to choose\n",
        "'''\n",
        "\n",
        "\n",
        "def visualize(i):\n",
        "  plt.figure(figsize=(8,6))\n",
        "  plt.plot(x,preds[i].reshape(20,))\n",
        "  plt.plot(x,np.array(labels.iloc[i]).reshape(20,))\n",
        "  plt.legend(['Prediction of Each Class','True Labels of each class 0(or)1 '])\n",
        "  plt.xlabel('Each Class from 1-20')\n",
        "  plt.ylabel('Prediction Probabilities')\n"
      ],
      "metadata": {
        "id": "9_B9HWDH500y"
      },
      "execution_count": null,
      "outputs": []
    },
    {
      "cell_type": "code",
      "source": [
        "preds = np.array(model_1.predict(df[:100]))"
      ],
      "metadata": {
        "id": "YIwuvPHJC5Db",
        "colab": {
          "base_uri": "https://localhost:8080/"
        },
        "outputId": "35bda034-a352-4d92-e90e-999ff5510e73"
      },
      "execution_count": null,
      "outputs": [
        {
          "output_type": "stream",
          "name": "stdout",
          "text": [
            "WARNING:tensorflow:Model was constructed with shape (None, None, 29) for input KerasTensor(type_spec=TensorSpec(shape=(None, None, 29), dtype=tf.float32, name='dense_input'), name='dense_input', description=\"created by layer 'dense_input'\"), but it was called on an input with incompatible shape (None, 29).\n"
          ]
        }
      ]
    },
    {
      "cell_type": "markdown",
      "source": [
        "##Lets now visualize some of our predictions to figure out how to assign labels for each probability"
      ],
      "metadata": {
        "id": "4qQdB4lJDEMa"
      }
    },
    {
      "cell_type": "code",
      "source": [
        "visualize(25)"
      ],
      "metadata": {
        "colab": {
          "base_uri": "https://localhost:8080/",
          "height": 388
        },
        "id": "3_iN5i49DBkO",
        "outputId": "ba33bf14-c6c6-4c5a-a3c0-84ff0f569d67"
      },
      "execution_count": null,
      "outputs": [
        {
          "output_type": "display_data",
          "data": {
            "image/png": "[encoded data removed]",
            "text/plain": [
              "<Figure size 576x432 with 1 Axes>"
            ]
          },
          "metadata": {
            "needs_background": "light"
          }
        }
      ]
    },
    {
      "cell_type": "markdown",
      "source": [
        "## Looks like we need to visualize the labels also so that it could lead us somewhere"
      ],
      "metadata": {
        "id": "MXnSP7bdFEpw"
      }
    },
    {
      "cell_type": "code",
      "source": [
        "df[df.columns[4:25]].iloc[1]"
      ],
      "metadata": {
        "id": "noRvYJPyFWJY",
        "colab": {
          "base_uri": "https://localhost:8080/"
        },
        "outputId": "1a350244-a925-487e-ac3c-27bbfb0fb956"
      },
      "execution_count": null,
      "outputs": [
        {
          "output_type": "execute_result",
          "data": {
            "text/plain": [
              "P1     1\n",
              "P2     1\n",
              "P3     0\n",
              "P4     0\n",
              "P5     0\n",
              "P6     0\n",
              "P7     0\n",
              "P8     0\n",
              "P9     0\n",
              "P10    0\n",
              "P11    0\n",
              "P12    0\n",
              "P13    1\n",
              "P14    0\n",
              "P15    0\n",
              "P16    0\n",
              "P17    0\n",
              "P18    0\n",
              "P19    0\n",
              "P20    1\n",
              "P21    0\n",
              "Name: 1, dtype: int64"
            ]
          },
          "metadata": {},
          "execution_count": 21
        }
      ]
    },
    {
      "cell_type": "code",
      "source": [
        "temp_labels = pd.read_csv('train_labels.csv')\n",
        "temp_labels.drop(['Unnamed: 0'],axis = 1 ,inplace = True)\n",
        "\n",
        "def label(i):\n",
        "  # Lets plot the relation bw labels and products previously owned\n",
        "  plt.figure(figsize = (8,6))\n",
        "  plt.scatter(df.columns[4:26],np.array(temp_labels.iloc[i]))\n",
        "  plt.scatter(df.columns[4:26],df[df.columns[4:26]].iloc[i])\n",
        "  plt.legend(['Each Label','Each Product Previously Owned'])\n",
        "  "
      ],
      "metadata": {
        "id": "yRL7W6FxDge-"
      },
      "execution_count": null,
      "outputs": []
    },
    {
      "cell_type": "code",
      "source": [
        "label(24)\n",
        "visualize(24)"
      ],
      "metadata": {
        "colab": {
          "base_uri": "https://localhost:8080/",
          "height": 746
        },
        "id": "3CheqxwuI370",
        "outputId": "8095ae6f-b132-4b8b-dd8e-fd3cb0c1f9fd"
      },
      "execution_count": null,
      "outputs": [
        {
          "output_type": "display_data",
          "data": {
            "image/png": "[encoded data removed]",
            "text/plain": [
              "<Figure size 576x432 with 1 Axes>"
            ]
          },
          "metadata": {
            "needs_background": "light"
          }
        },
        {
          "output_type": "display_data",
          "data": {
            "image/png": "[encoded data removed]",
            "text/plain": [
              "<Figure size 576x432 with 1 Axes>"
            ]
          },
          "metadata": {
            "needs_background": "light"
          }
        }
      ]
    },
    {
      "cell_type": "code",
      "source": [
        ""
      ],
      "metadata": {
        "id": "VYrUzARMI6iE"
      },
      "execution_count": null,
      "outputs": []
    },
    {
      "cell_type": "markdown",
      "source": [
        "## Function to convert the probabilities to 1s and zeros"
      ],
      "metadata": {
        "id": "hC7VsbYSQRek"
      }
    },
    {
      "cell_type": "code",
      "source": [
        "indices = np.argsort(y, axis=0)[-3:]\n",
        "indices"
      ],
      "metadata": {
        "colab": {
          "base_uri": "https://localhost:8080/"
        },
        "id": "NkUfN9SuRw7u",
        "outputId": "9378b0bf-b6b3-4c45-fde3-2f86dc6e8443"
      },
      "execution_count": null,
      "outputs": [
        {
          "output_type": "execute_result",
          "data": {
            "text/plain": [
              "array([5, 8, 6])"
            ]
          },
          "metadata": {},
          "execution_count": 50
        }
      ]
    },
    {
      "cell_type": "code",
      "source": [
        "preds = np.array(model_1.predict(df[:100]))"
      ],
      "metadata": {
        "id": "PRPXzoxHUsfH"
      },
      "execution_count": null,
      "outputs": []
    },
    {
      "cell_type": "code",
      "source": [
        "preds.shape[0]"
      ],
      "metadata": {
        "colab": {
          "base_uri": "https://localhost:8080/"
        },
        "id": "wY3By-XPYonY",
        "outputId": "054de804-d369-4a73-a3ba-03abafec49f7"
      },
      "execution_count": null,
      "outputs": [
        {
          "output_type": "execute_result",
          "data": {
            "text/plain": [
              "100"
            ]
          },
          "metadata": {},
          "execution_count": 88
        }
      ]
    },
    {
      "cell_type": "code",
      "source": [
        "def reconv(preds):\n",
        "  prediction = preds.copy()\n",
        "  indx = np.argsort(prediction,axis =0)[-3:]\n",
        "\n",
        "  for i in indx:\n",
        "    if prediction[i] >= 0.25:\n",
        "      prediction[i] = 1\n",
        "    else:\n",
        "      prediction[i] = 0\n",
        "  for i in range(0,len(prediction)):\n",
        "    if i not in indx :\n",
        "      prediction[i] = 0\n",
        "\n",
        "  return prediction"
      ],
      "metadata": {
        "id": "sJxdRWKzQb9p"
      },
      "execution_count": null,
      "outputs": []
    },
    {
      "cell_type": "code",
      "source": [
        "labelled_predictions = np.empty([1,20])\n",
        "for i in range(0,preds.shape[0]):\n",
        "  labelled_predictions = np.append(labelled_predictions,[reconv(preds[i])],axis  = 0)\n",
        "labelled_predictions = np.delete(labelled_predictions,0,0)"
      ],
      "metadata": {
        "id": "CnY5e4IVQG1D"
      },
      "execution_count": null,
      "outputs": []
    },
    {
      "cell_type": "code",
      "source": [
        "# labelled_predictions = np.delete(labelled_predictions,0,0)\n",
        "labelled_predictions,labelled_predictions.shape"
      ],
      "metadata": {
        "colab": {
          "base_uri": "https://localhost:8080/"
        },
        "id": "rJHWbHNqVR02",
        "outputId": "2ad9f66a-b733-4800-cd5c-ead9dd4aee98"
      },
      "execution_count": null,
      "outputs": [
        {
          "output_type": "execute_result",
          "data": {
            "text/plain": [
              "(array([[0., 0., 0., ..., 0., 0., 0.],\n",
              "        [0., 1., 0., ..., 0., 0., 0.],\n",
              "        [1., 0., 0., ..., 0., 0., 0.],\n",
              "        ...,\n",
              "        [0., 1., 0., ..., 0., 0., 0.],\n",
              "        [0., 1., 0., ..., 0., 0., 0.],\n",
              "        [0., 0., 0., ..., 0., 0., 0.]]), (100, 20))"
            ]
          },
          "metadata": {},
          "execution_count": 124
        }
      ]
    },
    {
      "cell_type": "code",
      "source": [
        "model_1.evaluate(df[:100],labels[:100])"
      ],
      "metadata": {
        "colab": {
          "base_uri": "https://localhost:8080/"
        },
        "id": "eE6EzGnmVR8D",
        "outputId": "4efa2aed-881b-48d2-f759-ed31ad2a4d88"
      },
      "execution_count": null,
      "outputs": [
        {
          "output_type": "stream",
          "name": "stdout",
          "text": [
            "WARNING:tensorflow:Model was constructed with shape (None, None, 29) for input KerasTensor(type_spec=TensorSpec(shape=(None, None, 29), dtype=tf.float32, name='dense_input'), name='dense_input', description=\"created by layer 'dense_input'\"), but it was called on an input with incompatible shape (None, 29).\n",
            "4/4 [==============================] - 0s 6ms/step - loss: 0.1420 - binary_crossentropy: 0.1420\n"
          ]
        },
        {
          "output_type": "execute_result",
          "data": {
            "text/plain": [
              "[0.14197072386741638, 0.14197072386741638]"
            ]
          },
          "metadata": {},
          "execution_count": 126
        }
      ]
    },
    {
      "cell_type": "markdown",
      "source": [
        "### Lets evalutate al other metrics and visualize how our model performs"
      ],
      "metadata": {
        "id": "BxhY0wyro8Ra"
      }
    },
    {
      "cell_type": "code",
      "source": [
        "from sklearn.metrics import confusion_matrix\n",
        "from sklearn.metrics import mean_absolute_error"
      ],
      "metadata": {
        "id": "VQNLO_IIoTgM"
      },
      "execution_count": null,
      "outputs": []
    },
    {
      "cell_type": "code",
      "source": [
        "mean_absolute_error(labels[:100],labelled_predictions)"
      ],
      "metadata": {
        "colab": {
          "base_uri": "https://localhost:8080/"
        },
        "id": "bxB61FRFpMog",
        "outputId": "19783b9c-7357-416f-d82f-4870919f02a3"
      },
      "execution_count": null,
      "outputs": [
        {
          "output_type": "execute_result",
          "data": {
            "text/plain": [
              "0.06700000000000002"
            ]
          },
          "metadata": {},
          "execution_count": 129
        }
      ]
    },
    {
      "cell_type": "code",
      "source": [
        "model_1.save('model_1.h5')"
      ],
      "metadata": {
        "id": "A5DO9vztpSt6"
      },
      "execution_count": null,
      "outputs": []
    },
    {
      "cell_type": "code",
      "source": [
        ""
      ],
      "metadata": {
        "id": "Z6baovAFqqGa"
      },
      "execution_count": null,
      "outputs": []
    }
  ]
}